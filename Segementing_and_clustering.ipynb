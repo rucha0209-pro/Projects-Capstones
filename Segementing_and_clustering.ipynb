{
  "nbformat": 4,
  "nbformat_minor": 0,
  "metadata": {
    "colab": {
      "name": "Segementing and clustering.ipynb",
      "provenance": [],
      "authorship_tag": "ABX9TyOw6GvHWm/FQrzg5yw8c97/",
      "include_colab_link": true
    },
    "kernelspec": {
      "name": "python3",
      "display_name": "Python 3"
    },
    "language_info": {
      "name": "python"
    }
  },
  "cells": [
    {
      "cell_type": "markdown",
      "metadata": {
        "id": "view-in-github",
        "colab_type": "text"
      },
      "source": [
        "<a href=\"https://colab.research.google.com/github/rucha0209-pro/Projects-Capstones/blob/Cpastone/Segementing_and_clustering.ipynb\" target=\"_parent\"><img src=\"https://colab.research.google.com/assets/colab-badge.svg\" alt=\"Open In Colab\"/></a>"
      ]
    },
    {
      "cell_type": "markdown",
      "metadata": {
        "id": "jr3bQSx_lwRY"
      },
      "source": [
        "# Segmenting and Clustering Neighborhoods in Toronto"
      ]
    },
    {
      "cell_type": "markdown",
      "metadata": {
        "id": "ivtrq0WtnxFv"
      },
      "source": [
        "Importing Libraries"
      ]
    },
    {
      "cell_type": "code",
      "metadata": {
        "id": "gL3kQzg6lnKq"
      },
      "source": [
        "import pandas as pd\n",
        "from bs4 import BeautifulSoup\n",
        "import requests\n",
        "import numpy as np\n",
        "from geopy.geocoders import Nominatim # convert an address into latitude and longitude values\n",
        "from pandas.io.json import json_normalize  # tranform JSON file into a pandas dataframe\n",
        "\n",
        "import folium # map rendering library\n",
        "\n",
        "# import k-means from clustering stage\n",
        "from sklearn.cluster import KMeans\n",
        "\n",
        "# Matplotlib and associated plotting modules\n",
        "import matplotlib.cm as cm\n",
        "import matplotlib.colors as colors"
      ],
      "execution_count": 2,
      "outputs": []
    },
    {
      "cell_type": "markdown",
      "metadata": {
        "id": "NLx0R5jZn1BB"
      },
      "source": [
        "Scraping Data from Wikipedia"
      ]
    },
    {
      "cell_type": "code",
      "metadata": {
        "colab": {
          "base_uri": "https://localhost:8080/",
          "height": 204
        },
        "id": "ZpOjgvkNlsZX",
        "outputId": "c74d4a57-1f11-421a-a055-70e5fc8caad2"
      },
      "source": [
        "source = requests.get(\"https://en.wikipedia.org/wiki/List_of_postal_codes_of_Canada:_M\").text\n",
        "soup = BeautifulSoup(source, 'lxml')\n",
        "\n",
        "table_post = soup.find('table')\n",
        "fields = table_post.find_all('td')\n",
        "\n",
        "postcode = []\n",
        "borough = []\n",
        "neighbourhood = []\n",
        "\n",
        "for i in range(0, len(fields), 3):\n",
        "    postcode.append(fields[i].text.strip())\n",
        "    borough.append(fields[i+1].text.strip())\n",
        "    neighbourhood.append(fields[i+2].text.strip())\n",
        "        \n",
        "df = pd.DataFrame(data=[postcode, borough, neighbourhood]).transpose()\n",
        "df.columns = ['PostalCode', 'Borough', 'Neighborhood']\n",
        "df.head()"
      ],
      "execution_count": 11,
      "outputs": [
        {
          "output_type": "execute_result",
          "data": {
            "text/html": [
              "<div>\n",
              "<style scoped>\n",
              "    .dataframe tbody tr th:only-of-type {\n",
              "        vertical-align: middle;\n",
              "    }\n",
              "\n",
              "    .dataframe tbody tr th {\n",
              "        vertical-align: top;\n",
              "    }\n",
              "\n",
              "    .dataframe thead th {\n",
              "        text-align: right;\n",
              "    }\n",
              "</style>\n",
              "<table border=\"1\" class=\"dataframe\">\n",
              "  <thead>\n",
              "    <tr style=\"text-align: right;\">\n",
              "      <th></th>\n",
              "      <th>PostalCode</th>\n",
              "      <th>Borough</th>\n",
              "      <th>Neighborhood</th>\n",
              "    </tr>\n",
              "  </thead>\n",
              "  <tbody>\n",
              "    <tr>\n",
              "      <th>0</th>\n",
              "      <td>M1ANot assigned</td>\n",
              "      <td>M2ANot assigned</td>\n",
              "      <td>M3ANorth York(Parkwoods)</td>\n",
              "    </tr>\n",
              "    <tr>\n",
              "      <th>1</th>\n",
              "      <td>M4ANorth York(Victoria Village)</td>\n",
              "      <td>M5ADowntown Toronto(Regent Park / Harbourfront)</td>\n",
              "      <td>M6ANorth York(Lawrence Manor / Lawrence Heights)</td>\n",
              "    </tr>\n",
              "    <tr>\n",
              "      <th>2</th>\n",
              "      <td>M7AQueen's Park(Ontario Provincial Government)</td>\n",
              "      <td>M8ANot assigned</td>\n",
              "      <td>M9AEtobicoke(Islington Avenue)</td>\n",
              "    </tr>\n",
              "    <tr>\n",
              "      <th>3</th>\n",
              "      <td>M1BScarborough(Malvern / Rouge)</td>\n",
              "      <td>M2BNot assigned</td>\n",
              "      <td>M3BNorth York(Don Mills)North</td>\n",
              "    </tr>\n",
              "    <tr>\n",
              "      <th>4</th>\n",
              "      <td>M4BEast York(Parkview Hill / Woodbine Gardens)</td>\n",
              "      <td>M5BDowntown Toronto(Garden District, Ryerson)</td>\n",
              "      <td>M6BNorth York(Glencairn)</td>\n",
              "    </tr>\n",
              "  </tbody>\n",
              "</table>\n",
              "</div>"
            ],
            "text/plain": [
              "                                       PostalCode  ...                                      Neighborhood\n",
              "0                                 M1ANot assigned  ...                          M3ANorth York(Parkwoods)\n",
              "1                 M4ANorth York(Victoria Village)  ...  M6ANorth York(Lawrence Manor / Lawrence Heights)\n",
              "2  M7AQueen's Park(Ontario Provincial Government)  ...                    M9AEtobicoke(Islington Avenue)\n",
              "3                 M1BScarborough(Malvern / Rouge)  ...                     M3BNorth York(Don Mills)North\n",
              "4  M4BEast York(Parkview Hill / Woodbine Gardens)  ...                          M6BNorth York(Glencairn)\n",
              "\n",
              "[5 rows x 3 columns]"
            ]
          },
          "metadata": {
            "tags": []
          },
          "execution_count": 11
        }
      ]
    },
    {
      "cell_type": "markdown",
      "metadata": {
        "id": "-St_Rfnun976"
      },
      "source": [
        "Removing \\n"
      ]
    },
    {
      "cell_type": "code",
      "metadata": {
        "colab": {
          "base_uri": "https://localhost:8080/",
          "height": 204
        },
        "id": "B31VuQq1l7mD",
        "outputId": "c4022257-6b83-4a49-83e2-4d59aa1235c8"
      },
      "source": [
        "df[\"Neighborhood\"] = df[\"Neighborhood\"].str.replace(\"\\n\",\"\")\n",
        "df.head()"
      ],
      "execution_count": 12,
      "outputs": [
        {
          "output_type": "execute_result",
          "data": {
            "text/html": [
              "<div>\n",
              "<style scoped>\n",
              "    .dataframe tbody tr th:only-of-type {\n",
              "        vertical-align: middle;\n",
              "    }\n",
              "\n",
              "    .dataframe tbody tr th {\n",
              "        vertical-align: top;\n",
              "    }\n",
              "\n",
              "    .dataframe thead th {\n",
              "        text-align: right;\n",
              "    }\n",
              "</style>\n",
              "<table border=\"1\" class=\"dataframe\">\n",
              "  <thead>\n",
              "    <tr style=\"text-align: right;\">\n",
              "      <th></th>\n",
              "      <th>PostalCode</th>\n",
              "      <th>Borough</th>\n",
              "      <th>Neighborhood</th>\n",
              "    </tr>\n",
              "  </thead>\n",
              "  <tbody>\n",
              "    <tr>\n",
              "      <th>0</th>\n",
              "      <td>M1ANot assigned</td>\n",
              "      <td>M2ANot assigned</td>\n",
              "      <td>M3ANorth York(Parkwoods)</td>\n",
              "    </tr>\n",
              "    <tr>\n",
              "      <th>1</th>\n",
              "      <td>M4ANorth York(Victoria Village)</td>\n",
              "      <td>M5ADowntown Toronto(Regent Park / Harbourfront)</td>\n",
              "      <td>M6ANorth York(Lawrence Manor / Lawrence Heights)</td>\n",
              "    </tr>\n",
              "    <tr>\n",
              "      <th>2</th>\n",
              "      <td>M7AQueen's Park(Ontario Provincial Government)</td>\n",
              "      <td>M8ANot assigned</td>\n",
              "      <td>M9AEtobicoke(Islington Avenue)</td>\n",
              "    </tr>\n",
              "    <tr>\n",
              "      <th>3</th>\n",
              "      <td>M1BScarborough(Malvern / Rouge)</td>\n",
              "      <td>M2BNot assigned</td>\n",
              "      <td>M3BNorth York(Don Mills)North</td>\n",
              "    </tr>\n",
              "    <tr>\n",
              "      <th>4</th>\n",
              "      <td>M4BEast York(Parkview Hill / Woodbine Gardens)</td>\n",
              "      <td>M5BDowntown Toronto(Garden District, Ryerson)</td>\n",
              "      <td>M6BNorth York(Glencairn)</td>\n",
              "    </tr>\n",
              "  </tbody>\n",
              "</table>\n",
              "</div>"
            ],
            "text/plain": [
              "                                       PostalCode  ...                                      Neighborhood\n",
              "0                                 M1ANot assigned  ...                          M3ANorth York(Parkwoods)\n",
              "1                 M4ANorth York(Victoria Village)  ...  M6ANorth York(Lawrence Manor / Lawrence Heights)\n",
              "2  M7AQueen's Park(Ontario Provincial Government)  ...                    M9AEtobicoke(Islington Avenue)\n",
              "3                 M1BScarborough(Malvern / Rouge)  ...                     M3BNorth York(Don Mills)North\n",
              "4  M4BEast York(Parkview Hill / Woodbine Gardens)  ...                          M6BNorth York(Glencairn)\n",
              "\n",
              "[5 rows x 3 columns]"
            ]
          },
          "metadata": {
            "tags": []
          },
          "execution_count": 12
        }
      ]
    },
    {
      "cell_type": "markdown",
      "metadata": {
        "id": "-Jl0-J1aoFs5"
      },
      "source": [
        "Groupinging with same postal code"
      ]
    },
    {
      "cell_type": "code",
      "metadata": {
        "colab": {
          "base_uri": "https://localhost:8080/",
          "height": 204
        },
        "id": "9QAa3VlDmMqf",
        "outputId": "39398290-afa0-4e73-ba48-2c44ac2b7a15"
      },
      "source": [
        "df = df.groupby([\"PostalCode\", \"Borough\"])[\"Neighborhood\"].apply(\", \".join).reset_index()\n",
        "df.head()\n"
      ],
      "execution_count": 13,
      "outputs": [
        {
          "output_type": "execute_result",
          "data": {
            "text/html": [
              "<div>\n",
              "<style scoped>\n",
              "    .dataframe tbody tr th:only-of-type {\n",
              "        vertical-align: middle;\n",
              "    }\n",
              "\n",
              "    .dataframe tbody tr th {\n",
              "        vertical-align: top;\n",
              "    }\n",
              "\n",
              "    .dataframe thead th {\n",
              "        text-align: right;\n",
              "    }\n",
              "</style>\n",
              "<table border=\"1\" class=\"dataframe\">\n",
              "  <thead>\n",
              "    <tr style=\"text-align: right;\">\n",
              "      <th></th>\n",
              "      <th>PostalCode</th>\n",
              "      <th>Borough</th>\n",
              "      <th>Neighborhood</th>\n",
              "    </tr>\n",
              "  </thead>\n",
              "  <tbody>\n",
              "    <tr>\n",
              "      <th>0</th>\n",
              "      <td>M1ANot assigned</td>\n",
              "      <td>M2ANot assigned</td>\n",
              "      <td>M3ANorth York(Parkwoods)</td>\n",
              "    </tr>\n",
              "    <tr>\n",
              "      <th>1</th>\n",
              "      <td>M1BScarborough(Malvern / Rouge)</td>\n",
              "      <td>M2BNot assigned</td>\n",
              "      <td>M3BNorth York(Don Mills)North</td>\n",
              "    </tr>\n",
              "    <tr>\n",
              "      <th>2</th>\n",
              "      <td>M1CScarborough(Rouge Hill / Port Union / Highl...</td>\n",
              "      <td>M2CNot assigned</td>\n",
              "      <td>M3CNorth York(Don Mills)South(Flemingdon Park)</td>\n",
              "    </tr>\n",
              "    <tr>\n",
              "      <th>3</th>\n",
              "      <td>M1EScarborough(Guildwood / Morningside / West ...</td>\n",
              "      <td>M2ENot assigned</td>\n",
              "      <td>M3ENot assigned</td>\n",
              "    </tr>\n",
              "    <tr>\n",
              "      <th>4</th>\n",
              "      <td>M1GScarborough(Woburn)</td>\n",
              "      <td>M2GNot assigned</td>\n",
              "      <td>M3GNot assigned</td>\n",
              "    </tr>\n",
              "  </tbody>\n",
              "</table>\n",
              "</div>"
            ],
            "text/plain": [
              "                                          PostalCode  ...                                    Neighborhood\n",
              "0                                    M1ANot assigned  ...                        M3ANorth York(Parkwoods)\n",
              "1                    M1BScarborough(Malvern / Rouge)  ...                   M3BNorth York(Don Mills)North\n",
              "2  M1CScarborough(Rouge Hill / Port Union / Highl...  ...  M3CNorth York(Don Mills)South(Flemingdon Park)\n",
              "3  M1EScarborough(Guildwood / Morningside / West ...  ...                                 M3ENot assigned\n",
              "4                             M1GScarborough(Woburn)  ...                                 M3GNot assigned\n",
              "\n",
              "[5 rows x 3 columns]"
            ]
          },
          "metadata": {
            "tags": []
          },
          "execution_count": 13
        }
      ]
    },
    {
      "cell_type": "code",
      "metadata": {
        "colab": {
          "base_uri": "https://localhost:8080/"
        },
        "id": "Hj4GxOvxma7l",
        "outputId": "0c8477a9-7367-40bc-8293-2d139831a88c"
      },
      "source": [
        "print(\"Shape: \", df.shape)"
      ],
      "execution_count": 14,
      "outputs": [
        {
          "output_type": "stream",
          "text": [
            "Shape:  (60, 3)\n"
          ],
          "name": "stdout"
        }
      ]
    },
    {
      "cell_type": "markdown",
      "metadata": {
        "id": "pL6WSHjgm1pd"
      },
      "source": [
        "**Get the latitude and the longitude coordinates of each neighborhood**"
      ]
    },
    {
      "cell_type": "code",
      "metadata": {
        "colab": {
          "base_uri": "https://localhost:8080/",
          "height": 204
        },
        "id": "B9q3m1xymkN4",
        "outputId": "34d67090-48fe-4769-9c96-1ead9a2b3bc3"
      },
      "source": [
        "df_geo_coor = pd.read_csv(\"Geospatial_Coordinates.csv\")\n",
        "df_geo_coor.head()"
      ],
      "execution_count": 16,
      "outputs": [
        {
          "output_type": "execute_result",
          "data": {
            "text/html": [
              "<div>\n",
              "<style scoped>\n",
              "    .dataframe tbody tr th:only-of-type {\n",
              "        vertical-align: middle;\n",
              "    }\n",
              "\n",
              "    .dataframe tbody tr th {\n",
              "        vertical-align: top;\n",
              "    }\n",
              "\n",
              "    .dataframe thead th {\n",
              "        text-align: right;\n",
              "    }\n",
              "</style>\n",
              "<table border=\"1\" class=\"dataframe\">\n",
              "  <thead>\n",
              "    <tr style=\"text-align: right;\">\n",
              "      <th></th>\n",
              "      <th>Postal Code</th>\n",
              "      <th>Latitude</th>\n",
              "      <th>Longitude</th>\n",
              "    </tr>\n",
              "  </thead>\n",
              "  <tbody>\n",
              "    <tr>\n",
              "      <th>0</th>\n",
              "      <td>M1B</td>\n",
              "      <td>43.806686</td>\n",
              "      <td>-79.194353</td>\n",
              "    </tr>\n",
              "    <tr>\n",
              "      <th>1</th>\n",
              "      <td>M1C</td>\n",
              "      <td>43.784535</td>\n",
              "      <td>-79.160497</td>\n",
              "    </tr>\n",
              "    <tr>\n",
              "      <th>2</th>\n",
              "      <td>M1E</td>\n",
              "      <td>43.763573</td>\n",
              "      <td>-79.188711</td>\n",
              "    </tr>\n",
              "    <tr>\n",
              "      <th>3</th>\n",
              "      <td>M1G</td>\n",
              "      <td>43.770992</td>\n",
              "      <td>-79.216917</td>\n",
              "    </tr>\n",
              "    <tr>\n",
              "      <th>4</th>\n",
              "      <td>M1H</td>\n",
              "      <td>43.773136</td>\n",
              "      <td>-79.239476</td>\n",
              "    </tr>\n",
              "  </tbody>\n",
              "</table>\n",
              "</div>"
            ],
            "text/plain": [
              "  Postal Code   Latitude  Longitude\n",
              "0         M1B  43.806686 -79.194353\n",
              "1         M1C  43.784535 -79.160497\n",
              "2         M1E  43.763573 -79.188711\n",
              "3         M1G  43.770992 -79.216917\n",
              "4         M1H  43.773136 -79.239476"
            ]
          },
          "metadata": {
            "tags": []
          },
          "execution_count": 16
        }
      ]
    },
    {
      "cell_type": "code",
      "metadata": {
        "colab": {
          "base_uri": "https://localhost:8080/",
          "height": 204
        },
        "id": "F-0QZ6t1m6Ij",
        "outputId": "fa6e6ffb-e631-4d6b-d3ae-4b8fd90776d7"
      },
      "source": [
        "df_toronto = pd.merge(df, df_geo_coor, how='left', left_on = 'PostalCode', right_on = 'Postal Code')\n",
        "# remove the \"Postal Code\" column\n",
        "df_toronto.drop(\"Postal Code\", axis=1, inplace=True)\n",
        "df_toronto.head()"
      ],
      "execution_count": 17,
      "outputs": [
        {
          "output_type": "execute_result",
          "data": {
            "text/html": [
              "<div>\n",
              "<style scoped>\n",
              "    .dataframe tbody tr th:only-of-type {\n",
              "        vertical-align: middle;\n",
              "    }\n",
              "\n",
              "    .dataframe tbody tr th {\n",
              "        vertical-align: top;\n",
              "    }\n",
              "\n",
              "    .dataframe thead th {\n",
              "        text-align: right;\n",
              "    }\n",
              "</style>\n",
              "<table border=\"1\" class=\"dataframe\">\n",
              "  <thead>\n",
              "    <tr style=\"text-align: right;\">\n",
              "      <th></th>\n",
              "      <th>PostalCode</th>\n",
              "      <th>Borough</th>\n",
              "      <th>Neighborhood</th>\n",
              "      <th>Latitude</th>\n",
              "      <th>Longitude</th>\n",
              "    </tr>\n",
              "  </thead>\n",
              "  <tbody>\n",
              "    <tr>\n",
              "      <th>0</th>\n",
              "      <td>M1ANot assigned</td>\n",
              "      <td>M2ANot assigned</td>\n",
              "      <td>M3ANorth York(Parkwoods)</td>\n",
              "      <td>NaN</td>\n",
              "      <td>NaN</td>\n",
              "    </tr>\n",
              "    <tr>\n",
              "      <th>1</th>\n",
              "      <td>M1BScarborough(Malvern / Rouge)</td>\n",
              "      <td>M2BNot assigned</td>\n",
              "      <td>M3BNorth York(Don Mills)North</td>\n",
              "      <td>NaN</td>\n",
              "      <td>NaN</td>\n",
              "    </tr>\n",
              "    <tr>\n",
              "      <th>2</th>\n",
              "      <td>M1CScarborough(Rouge Hill / Port Union / Highl...</td>\n",
              "      <td>M2CNot assigned</td>\n",
              "      <td>M3CNorth York(Don Mills)South(Flemingdon Park)</td>\n",
              "      <td>NaN</td>\n",
              "      <td>NaN</td>\n",
              "    </tr>\n",
              "    <tr>\n",
              "      <th>3</th>\n",
              "      <td>M1EScarborough(Guildwood / Morningside / West ...</td>\n",
              "      <td>M2ENot assigned</td>\n",
              "      <td>M3ENot assigned</td>\n",
              "      <td>NaN</td>\n",
              "      <td>NaN</td>\n",
              "    </tr>\n",
              "    <tr>\n",
              "      <th>4</th>\n",
              "      <td>M1GScarborough(Woburn)</td>\n",
              "      <td>M2GNot assigned</td>\n",
              "      <td>M3GNot assigned</td>\n",
              "      <td>NaN</td>\n",
              "      <td>NaN</td>\n",
              "    </tr>\n",
              "  </tbody>\n",
              "</table>\n",
              "</div>"
            ],
            "text/plain": [
              "                                          PostalCode  ... Longitude\n",
              "0                                    M1ANot assigned  ...       NaN\n",
              "1                    M1BScarborough(Malvern / Rouge)  ...       NaN\n",
              "2  M1CScarborough(Rouge Hill / Port Union / Highl...  ...       NaN\n",
              "3  M1EScarborough(Guildwood / Morningside / West ...  ...       NaN\n",
              "4                             M1GScarborough(Woburn)  ...       NaN\n",
              "\n",
              "[5 rows x 5 columns]"
            ]
          },
          "metadata": {
            "tags": []
          },
          "execution_count": 17
        }
      ]
    },
    {
      "cell_type": "markdown",
      "metadata": {
        "id": "G47w_s3xnKtF"
      },
      "source": [
        "**Explore and cluster the neighborhoods in Toronto**"
      ]
    },
    {
      "cell_type": "markdown",
      "metadata": {
        "id": "P-LOApmEoeye"
      },
      "source": [
        "Get torontos lattitude and longitude value"
      ]
    },
    {
      "cell_type": "code",
      "metadata": {
        "colab": {
          "base_uri": "https://localhost:8080/"
        },
        "id": "yWL8lzcOnHSt",
        "outputId": "558c39e6-87bb-4cfd-c63a-3bbfe0ac55f8"
      },
      "source": [
        "address = \"Toronto, ON\"\n",
        "\n",
        "geolocator = Nominatim(user_agent=\"toronto_explorer\")\n",
        "location = geolocator.geocode(address)\n",
        "latitude = location.latitude\n",
        "longitude = location.longitude\n",
        "print('The geograpical coordinate of Toronto city are {}, {}.'.format(latitude, longitude))"
      ],
      "execution_count": 18,
      "outputs": [
        {
          "output_type": "stream",
          "text": [
            "The geograpical coordinate of Toronto city are 43.6534817, -79.3839347.\n"
          ],
          "name": "stdout"
        }
      ]
    },
    {
      "cell_type": "markdown",
      "metadata": {
        "id": "OWb4HKXlokNc"
      },
      "source": [
        "**Create map**"
      ]
    },
    {
      "cell_type": "code",
      "metadata": {
        "colab": {
          "base_uri": "https://localhost:8080/",
          "height": 763
        },
        "id": "XepyqrB2nN4i",
        "outputId": "c5a89563-aadb-4967-dfcb-f3f07776ca62"
      },
      "source": [
        "# create map of Toronto using latitude and longitude values\n",
        "map_toronto = folium.Map(location=[latitude, longitude], zoom_start=10)\n",
        "map_toronto"
      ],
      "execution_count": 19,
      "outputs": [
        {
          "output_type": "execute_result",
          "data": {
            "text/html": [
              "<div style=\"width:100%;\"><div style=\"position:relative;width:100%;height:0;padding-bottom:60%;\"><span style=\"color:#565656\">Make this Notebook Trusted to load map: File -> Trust Notebook</span><iframe src=\"about:blank\" style=\"position:absolute;width:100%;height:100%;left:0;top:0;border:none !important;\" data-html=%3C%21DOCTYPE%20html%3E%0A%3Chead%3E%20%20%20%20%0A%20%20%20%20%3Cmeta%20http-equiv%3D%22content-type%22%20content%3D%22text/html%3B%20charset%3DUTF-8%22%20/%3E%0A%20%20%20%20%3Cscript%3EL_PREFER_CANVAS%3Dfalse%3B%20L_NO_TOUCH%3Dfalse%3B%20L_DISABLE_3D%3Dfalse%3B%3C/script%3E%0A%20%20%20%20%3Cscript%20src%3D%22https%3A//cdn.jsdelivr.net/npm/leaflet%401.4.0/dist/leaflet.js%22%3E%3C/script%3E%0A%20%20%20%20%3Cscript%20src%3D%22https%3A//code.jquery.com/jquery-1.12.4.min.js%22%3E%3C/script%3E%0A%20%20%20%20%3Cscript%20src%3D%22https%3A//maxcdn.bootstrapcdn.com/bootstrap/3.2.0/js/bootstrap.min.js%22%3E%3C/script%3E%0A%20%20%20%20%3Cscript%20src%3D%22https%3A//cdnjs.cloudflare.com/ajax/libs/Leaflet.awesome-markers/2.0.2/leaflet.awesome-markers.js%22%3E%3C/script%3E%0A%20%20%20%20%3Clink%20rel%3D%22stylesheet%22%20href%3D%22https%3A//cdn.jsdelivr.net/npm/leaflet%401.4.0/dist/leaflet.css%22/%3E%0A%20%20%20%20%3Clink%20rel%3D%22stylesheet%22%20href%3D%22https%3A//maxcdn.bootstrapcdn.com/bootstrap/3.2.0/css/bootstrap.min.css%22/%3E%0A%20%20%20%20%3Clink%20rel%3D%22stylesheet%22%20href%3D%22https%3A//maxcdn.bootstrapcdn.com/bootstrap/3.2.0/css/bootstrap-theme.min.css%22/%3E%0A%20%20%20%20%3Clink%20rel%3D%22stylesheet%22%20href%3D%22https%3A//maxcdn.bootstrapcdn.com/font-awesome/4.6.3/css/font-awesome.min.css%22/%3E%0A%20%20%20%20%3Clink%20rel%3D%22stylesheet%22%20href%3D%22https%3A//cdnjs.cloudflare.com/ajax/libs/Leaflet.awesome-markers/2.0.2/leaflet.awesome-markers.css%22/%3E%0A%20%20%20%20%3Clink%20rel%3D%22stylesheet%22%20href%3D%22https%3A//rawcdn.githack.com/python-visualization/folium/master/folium/templates/leaflet.awesome.rotate.css%22/%3E%0A%20%20%20%20%3Cstyle%3Ehtml%2C%20body%20%7Bwidth%3A%20100%25%3Bheight%3A%20100%25%3Bmargin%3A%200%3Bpadding%3A%200%3B%7D%3C/style%3E%0A%20%20%20%20%3Cstyle%3E%23map%20%7Bposition%3Aabsolute%3Btop%3A0%3Bbottom%3A0%3Bright%3A0%3Bleft%3A0%3B%7D%3C/style%3E%0A%20%20%20%20%0A%20%20%20%20%3Cmeta%20name%3D%22viewport%22%20content%3D%22width%3Ddevice-width%2C%0A%20%20%20%20%20%20%20%20initial-scale%3D1.0%2C%20maximum-scale%3D1.0%2C%20user-scalable%3Dno%22%20/%3E%0A%20%20%20%20%3Cstyle%3E%23map_5cad1a48c0744f509a50dd841320b03d%20%7B%0A%20%20%20%20%20%20%20%20position%3A%20relative%3B%0A%20%20%20%20%20%20%20%20width%3A%20100.0%25%3B%0A%20%20%20%20%20%20%20%20height%3A%20100.0%25%3B%0A%20%20%20%20%20%20%20%20left%3A%200.0%25%3B%0A%20%20%20%20%20%20%20%20top%3A%200.0%25%3B%0A%20%20%20%20%20%20%20%20%7D%0A%20%20%20%20%3C/style%3E%0A%3C/head%3E%0A%3Cbody%3E%20%20%20%20%0A%20%20%20%20%0A%20%20%20%20%3Cdiv%20class%3D%22folium-map%22%20id%3D%22map_5cad1a48c0744f509a50dd841320b03d%22%20%3E%3C/div%3E%0A%3C/body%3E%0A%3Cscript%3E%20%20%20%20%0A%20%20%20%20%0A%20%20%20%20%0A%20%20%20%20%20%20%20%20var%20bounds%20%3D%20null%3B%0A%20%20%20%20%0A%0A%20%20%20%20var%20map_5cad1a48c0744f509a50dd841320b03d%20%3D%20L.map%28%0A%20%20%20%20%20%20%20%20%27map_5cad1a48c0744f509a50dd841320b03d%27%2C%20%7B%0A%20%20%20%20%20%20%20%20center%3A%20%5B43.6534817%2C%20-79.3839347%5D%2C%0A%20%20%20%20%20%20%20%20zoom%3A%2010%2C%0A%20%20%20%20%20%20%20%20maxBounds%3A%20bounds%2C%0A%20%20%20%20%20%20%20%20layers%3A%20%5B%5D%2C%0A%20%20%20%20%20%20%20%20worldCopyJump%3A%20false%2C%0A%20%20%20%20%20%20%20%20crs%3A%20L.CRS.EPSG3857%2C%0A%20%20%20%20%20%20%20%20zoomControl%3A%20true%2C%0A%20%20%20%20%20%20%20%20%7D%29%3B%0A%0A%0A%20%20%20%20%0A%20%20%20%20var%20tile_layer_9dc7a1223db2441893a9fd9a15c14eef%20%3D%20L.tileLayer%28%0A%20%20%20%20%20%20%20%20%27https%3A//%7Bs%7D.tile.openstreetmap.org/%7Bz%7D/%7Bx%7D/%7By%7D.png%27%2C%0A%20%20%20%20%20%20%20%20%7B%0A%20%20%20%20%20%20%20%20%22attribution%22%3A%20null%2C%0A%20%20%20%20%20%20%20%20%22detectRetina%22%3A%20false%2C%0A%20%20%20%20%20%20%20%20%22maxNativeZoom%22%3A%2018%2C%0A%20%20%20%20%20%20%20%20%22maxZoom%22%3A%2018%2C%0A%20%20%20%20%20%20%20%20%22minZoom%22%3A%200%2C%0A%20%20%20%20%20%20%20%20%22noWrap%22%3A%20false%2C%0A%20%20%20%20%20%20%20%20%22opacity%22%3A%201%2C%0A%20%20%20%20%20%20%20%20%22subdomains%22%3A%20%22abc%22%2C%0A%20%20%20%20%20%20%20%20%22tms%22%3A%20false%0A%7D%29.addTo%28map_5cad1a48c0744f509a50dd841320b03d%29%3B%0A%3C/script%3E onload=\"this.contentDocument.open();this.contentDocument.write(    decodeURIComponent(this.getAttribute('data-html')));this.contentDocument.close();\" allowfullscreen webkitallowfullscreen mozallowfullscreen></iframe></div></div>"
            ],
            "text/plain": [
              "<folium.folium.Map at 0x7fa88313ea90>"
            ]
          },
          "metadata": {
            "tags": []
          },
          "execution_count": 19
        }
      ]
    },
    {
      "cell_type": "markdown",
      "metadata": {
        "id": "6mk-p8eOouqA"
      },
      "source": [
        " Map of a part of Toronto City"
      ]
    },
    {
      "cell_type": "code",
      "metadata": {
        "colab": {
          "base_uri": "https://localhost:8080/",
          "height": 204
        },
        "id": "85awbPDJnVet",
        "outputId": "c0fb09b3-7e6f-4f05-9f59-48097d001c7d"
      },
      "source": [
        "# \"denc\" = [D]owntown Toronto, [E]ast Toronto, [N]orth Toronto, [C]entral Toronto\n",
        "df_toronto_denc = df_toronto[df_toronto['Borough'].str.contains(\"Toronto\")].reset_index(drop=True)\n",
        "df_toronto_denc.head()\n"
      ],
      "execution_count": 22,
      "outputs": [
        {
          "output_type": "execute_result",
          "data": {
            "text/html": [
              "<div>\n",
              "<style scoped>\n",
              "    .dataframe tbody tr th:only-of-type {\n",
              "        vertical-align: middle;\n",
              "    }\n",
              "\n",
              "    .dataframe tbody tr th {\n",
              "        vertical-align: top;\n",
              "    }\n",
              "\n",
              "    .dataframe thead th {\n",
              "        text-align: right;\n",
              "    }\n",
              "</style>\n",
              "<table border=\"1\" class=\"dataframe\">\n",
              "  <thead>\n",
              "    <tr style=\"text-align: right;\">\n",
              "      <th></th>\n",
              "      <th>PostalCode</th>\n",
              "      <th>Borough</th>\n",
              "      <th>Neighborhood</th>\n",
              "      <th>Latitude</th>\n",
              "      <th>Longitude</th>\n",
              "    </tr>\n",
              "  </thead>\n",
              "  <tbody>\n",
              "    <tr>\n",
              "      <th>0</th>\n",
              "      <td>M4ANorth York(Victoria Village)</td>\n",
              "      <td>M5ADowntown Toronto(Regent Park / Harbourfront)</td>\n",
              "      <td>M6ANorth York(Lawrence Manor / Lawrence Heights)</td>\n",
              "      <td>NaN</td>\n",
              "      <td>NaN</td>\n",
              "    </tr>\n",
              "    <tr>\n",
              "      <th>1</th>\n",
              "      <td>M4BEast York(Parkview Hill / Woodbine Gardens)</td>\n",
              "      <td>M5BDowntown Toronto(Garden District, Ryerson)</td>\n",
              "      <td>M6BNorth York(Glencairn)</td>\n",
              "      <td>NaN</td>\n",
              "      <td>NaN</td>\n",
              "    </tr>\n",
              "    <tr>\n",
              "      <th>2</th>\n",
              "      <td>M4CEast York(Woodbine Heights)</td>\n",
              "      <td>M5CDowntown Toronto(St. James Town)</td>\n",
              "      <td>M6CYork(Humewood-Cedarvale)</td>\n",
              "      <td>NaN</td>\n",
              "      <td>NaN</td>\n",
              "    </tr>\n",
              "    <tr>\n",
              "      <th>3</th>\n",
              "      <td>M4EEast Toronto(The Beaches)</td>\n",
              "      <td>M5EDowntown Toronto(Berczy Park)</td>\n",
              "      <td>M6EYork(Caledonia-Fairbanks)</td>\n",
              "      <td>NaN</td>\n",
              "      <td>NaN</td>\n",
              "    </tr>\n",
              "    <tr>\n",
              "      <th>4</th>\n",
              "      <td>M4GEast York(Leaside)</td>\n",
              "      <td>M5GDowntown Toronto(Central Bay Street)</td>\n",
              "      <td>M6GDowntown Toronto(Christie)</td>\n",
              "      <td>NaN</td>\n",
              "      <td>NaN</td>\n",
              "    </tr>\n",
              "  </tbody>\n",
              "</table>\n",
              "</div>"
            ],
            "text/plain": [
              "                                       PostalCode  ... Longitude\n",
              "0                 M4ANorth York(Victoria Village)  ...       NaN\n",
              "1  M4BEast York(Parkview Hill / Woodbine Gardens)  ...       NaN\n",
              "2                  M4CEast York(Woodbine Heights)  ...       NaN\n",
              "3                    M4EEast Toronto(The Beaches)  ...       NaN\n",
              "4                           M4GEast York(Leaside)  ...       NaN\n",
              "\n",
              "[5 rows x 5 columns]"
            ]
          },
          "metadata": {
            "tags": []
          },
          "execution_count": 22
        }
      ]
    },
    {
      "cell_type": "code",
      "metadata": {
        "id": "-sotmsMco1K9"
      },
      "source": [
        ""
      ],
      "execution_count": null,
      "outputs": []
    }
  ]
}